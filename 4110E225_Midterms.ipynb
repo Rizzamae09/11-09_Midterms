{
  "nbformat": 4,
  "nbformat_minor": 0,
  "metadata": {
    "colab": {
      "provenance": [],
      "authorship_tag": "ABX9TyOajSaHD+kETaX3QwOQh9he",
      "include_colab_link": true
    },
    "kernelspec": {
      "name": "python3",
      "display_name": "Python 3"
    },
    "language_info": {
      "name": "python"
    }
  },
  "cells": [
    {
      "cell_type": "markdown",
      "metadata": {
        "id": "view-in-github",
        "colab_type": "text"
      },
      "source": [
        "<a href=\"https://colab.research.google.com/github/Rizzamae09/11-09_Midterms/blob/main/4110E225_Midterms.ipynb\" target=\"_parent\"><img src=\"https://colab.research.google.com/assets/colab-badge.svg\" alt=\"Open In Colab\"/></a>"
      ]
    },
    {
      "cell_type": "markdown",
      "source": [
        "NAME: 艾麗藻 \n",
        "\n",
        "SID: 4110E225"
      ],
      "metadata": {
        "id": "BsOPoFVGphx9"
      }
    },
    {
      "cell_type": "markdown",
      "source": [
        "4. Unpack a Collection:\n",
        "\n",
        "If you have a collection of values in a list, tuple etc. Python allows you to extract the values into variables. \n",
        "\n",
        "fruits = [\"apple\", \"banana\", \"cherry\"]\n",
        "\n",
        "x, y, z = fruits\n",
        "\n",
        "print(x)\n",
        "\n",
        "What is the output of this code in Python?\n",
        "\n",
        "(A) apple  (B) banana (C) cherry  \n",
        "\n",
        "(D) [\"apple\", \"banana\", \"cherry\"]\n"
      ],
      "metadata": {
        "id": "z1_yXYaQPPVt"
      }
    },
    {
      "cell_type": "markdown",
      "source": [
        "ANSWER: (A) apple"
      ],
      "metadata": {
        "id": "VO3IfDN7PZIQ"
      }
    },
    {
      "cell_type": "code",
      "source": [
        "fruits = [\"apple\", \"banana\", \"cherry\"]\n",
        "\n",
        "x, y, z = fruits\n",
        "\n",
        "print(x)"
      ],
      "metadata": {
        "colab": {
          "base_uri": "https://localhost:8080/"
        },
        "id": "AAlFvr8-Pdtd",
        "outputId": "3ec3be7d-3e31-46d5-9338-5cb0d508f9e2"
      },
      "execution_count": 1,
      "outputs": [
        {
          "output_type": "stream",
          "name": "stdout",
          "text": [
            "apple\n"
          ]
        }
      ]
    },
    {
      "cell_type": "markdown",
      "source": [
        "5. Which following is the correct way to create a dictionary in Python?\n",
        "\n",
        "   (A) students = { 'name' => 'alice' ;  'score' =>60 }\n",
        "\n",
        "   (B) students = { 'name' = 'alice' ;  'score' =60 }\n",
        "\n",
        "   (C) students = { 'name' : 'alice' ;  'score' : 60 }\n",
        "\n",
        "   (D) students = { 'name' => 'alice' ,  'score' =>60 }\n",
        "\n",
        "   (E) students = { 'name' : 'alice' , 'score' : 60 }\n"
      ],
      "metadata": {
        "id": "mq3NQSpXPzAX"
      }
    },
    {
      "cell_type": "markdown",
      "source": [
        "ANSWER: (E) students = { 'name' : 'alice' , 'score' : 60 }"
      ],
      "metadata": {
        "id": "vyvyT-QSQAH8"
      }
    },
    {
      "cell_type": "code",
      "source": [
        "students = { 'name' : 'alice' , 'score' : 60 }"
      ],
      "metadata": {
        "id": "fRO-K3UyQHPt"
      },
      "execution_count": 7,
      "outputs": []
    },
    {
      "cell_type": "markdown",
      "source": [
        "6. What is the output of this code in Python?\n",
        "\n",
        "\n",
        "\n",
        "x = 5\n",
        "\n",
        "y = \"John\"\n",
        "\n",
        "print(x + y) \n",
        "\n",
        "(A)\t5 John  (B) 5 + John  (C) John  \n",
        "\n",
        "(D) Python will give you an error\n"
      ],
      "metadata": {
        "id": "9wZR2MdhR_I1"
      }
    },
    {
      "cell_type": "code",
      "source": [
        "x = 5\n",
        "y = \"John\"\n",
        "print(x + y)"
      ],
      "metadata": {
        "colab": {
          "base_uri": "https://localhost:8080/",
          "height": 200
        },
        "id": "QJYEkOZrSMet",
        "outputId": "024f7996-fc15-4c28-d160-f61bb8e0c77d"
      },
      "execution_count": 11,
      "outputs": [
        {
          "output_type": "error",
          "ename": "TypeError",
          "evalue": "ignored",
          "traceback": [
            "\u001b[0;31m---------------------------------------------------------------------------\u001b[0m",
            "\u001b[0;31mTypeError\u001b[0m                                 Traceback (most recent call last)",
            "\u001b[0;32m<ipython-input-11-00c66e4310ff>\u001b[0m in \u001b[0;36m<module>\u001b[0;34m\u001b[0m\n\u001b[1;32m      1\u001b[0m \u001b[0mx\u001b[0m \u001b[0;34m=\u001b[0m \u001b[0;36m5\u001b[0m\u001b[0;34m\u001b[0m\u001b[0;34m\u001b[0m\u001b[0m\n\u001b[1;32m      2\u001b[0m \u001b[0my\u001b[0m \u001b[0;34m=\u001b[0m \u001b[0;34m\"John\"\u001b[0m\u001b[0;34m\u001b[0m\u001b[0;34m\u001b[0m\u001b[0m\n\u001b[0;32m----> 3\u001b[0;31m \u001b[0mprint\u001b[0m\u001b[0;34m(\u001b[0m\u001b[0mx\u001b[0m \u001b[0;34m+\u001b[0m \u001b[0my\u001b[0m\u001b[0;34m)\u001b[0m\u001b[0;34m\u001b[0m\u001b[0;34m\u001b[0m\u001b[0m\n\u001b[0m",
            "\u001b[0;31mTypeError\u001b[0m: unsupported operand type(s) for +: 'int' and 'str'"
          ]
        }
      ]
    },
    {
      "cell_type": "markdown",
      "source": [
        "ANSWER: (D) Python will give you an error"
      ],
      "metadata": {
        "id": "tegeuUAuS7E-"
      }
    },
    {
      "cell_type": "markdown",
      "source": [
        "7. Which one of the following outputs is wrong?\n",
        "\n",
        "\n",
        "(A)13//5  output: 2.6\n",
        "\n",
        "(B) 13/5   output: 2.6\n",
        "\n",
        "(C)13%5   output:3   \n",
        "\n",
        "(D)y = int(2.8)  output:2\n"
      ],
      "metadata": {
        "id": "bgPrgMuQTB-q"
      }
    },
    {
      "cell_type": "markdown",
      "source": [
        "ANSWER: (A) 13//5 output: 2.6"
      ],
      "metadata": {
        "id": "ujB-B3vCTKx4"
      }
    },
    {
      "cell_type": "code",
      "source": [
        "x = 13//5\n",
        "print(x)"
      ],
      "metadata": {
        "colab": {
          "base_uri": "https://localhost:8080/"
        },
        "id": "Wu8iYDgDUa8d",
        "outputId": "226e266a-b77f-4416-d17a-9ed0369d7450"
      },
      "execution_count": 12,
      "outputs": [
        {
          "output_type": "stream",
          "name": "stdout",
          "text": [
            "2\n"
          ]
        }
      ]
    },
    {
      "cell_type": "code",
      "source": [
        "x = 13/5\n",
        "print(x)"
      ],
      "metadata": {
        "colab": {
          "base_uri": "https://localhost:8080/"
        },
        "id": "qc8EpzWoUpIX",
        "outputId": "28a15e73-baf9-4872-c462-0dd9a2963e32"
      },
      "execution_count": 13,
      "outputs": [
        {
          "output_type": "stream",
          "name": "stdout",
          "text": [
            "2.6\n"
          ]
        }
      ]
    },
    {
      "cell_type": "code",
      "source": [
        "x = 13%5\n",
        "print(x)"
      ],
      "metadata": {
        "colab": {
          "base_uri": "https://localhost:8080/"
        },
        "id": "rQChlL6RUwOe",
        "outputId": "b9451736-1fa1-43f3-c01f-c9a71f9d02e3"
      },
      "execution_count": 14,
      "outputs": [
        {
          "output_type": "stream",
          "name": "stdout",
          "text": [
            "3\n"
          ]
        }
      ]
    },
    {
      "cell_type": "code",
      "source": [
        "y = int(2.8)\n",
        "print(y)"
      ],
      "metadata": {
        "colab": {
          "base_uri": "https://localhost:8080/"
        },
        "id": "HVIJeL-SU6B0",
        "outputId": "ccd7ce8f-71ba-4c02-e80e-d29f4c99e4cb"
      },
      "execution_count": 15,
      "outputs": [
        {
          "output_type": "stream",
          "name": "stdout",
          "text": [
            "2\n"
          ]
        }
      ]
    },
    {
      "cell_type": "markdown",
      "source": [
        "8. What does the following Python program fragment do?\n",
        "\n",
        "   s=0\n",
        "\n",
        "   for i in range (3 , 11) :\n",
        "\n",
        "        s+=i\n",
        "\n",
        "   print (s)\n",
        "\n",
        "   (A) Calculate the sum of 1+2+…+10\n",
        "\n",
        "   (B) Calculate the sum of 1+4+7+10\n",
        "\n",
        "   (C) Calculate the sum of 3+4+5+6+…+9\n",
        "\n",
        "   (D) Calculate the sum of 3+4+5+6+…+10\n",
        "\n",
        "   (E) Calculate the sum of 0+2+4+6+…+10\n"
      ],
      "metadata": {
        "id": "x4ooiWVoVFpK"
      }
    },
    {
      "cell_type": "markdown",
      "source": [
        "ANSWER: (D) Calculate the sum of 3+4+5+6+…+10"
      ],
      "metadata": {
        "id": "yaF0CGmyWqdl"
      }
    },
    {
      "cell_type": "code",
      "source": [
        "s=0\n",
        "\n",
        "for i in range (3 , 11) :\n",
        "\n",
        "    s+=i\n",
        "print (s)"
      ],
      "metadata": {
        "colab": {
          "base_uri": "https://localhost:8080/"
        },
        "id": "1zMjORXOVMYW",
        "outputId": "bd8a19ed-7fad-489e-d5e3-9c012f7ffeb5"
      },
      "execution_count": 17,
      "outputs": [
        {
          "output_type": "stream",
          "name": "stdout",
          "text": [
            "52\n"
          ]
        }
      ]
    },
    {
      "cell_type": "markdown",
      "source": [
        "9. What is the output of this code in Python?\n",
        "\n",
        "\n",
        "a = \"Hello, World!\"\n",
        "\n",
        "print(a[2:5]+ a[3:8]) \n",
        "\n",
        "(A)  W llolo,\n",
        "\n",
        "(B)  llolo,Wo\n",
        "\n",
        "(C)  llolo, W\n",
        "\n",
        "(D)  llolo,Wor\n"
      ],
      "metadata": {
        "id": "yZIpHExaW9hG"
      }
    },
    {
      "cell_type": "markdown",
      "source": [
        "ANSWER: (C) llolo, W"
      ],
      "metadata": {
        "id": "yOsHk1VXXDpe"
      }
    },
    {
      "cell_type": "code",
      "source": [
        "a = \"Hello, World!\"\n",
        "\n",
        "print(a[2:5]+ a[3:8])"
      ],
      "metadata": {
        "colab": {
          "base_uri": "https://localhost:8080/"
        },
        "id": "Wpy_iGWtXFcb",
        "outputId": "fa2b7e9d-ff52-4601-ef1d-55569b2153f4"
      },
      "execution_count": 18,
      "outputs": [
        {
          "output_type": "stream",
          "name": "stdout",
          "text": [
            "llolo, W\n"
          ]
        }
      ]
    },
    {
      "cell_type": "markdown",
      "source": [
        "11. What is the output of this code in Python?\n",
        "\n",
        "      list = [ ' a ' ,  ' b ' ,  ' c ' ,  ' d ' ,  ' e ' ]\n",
        "\n",
        "      print (list [ 1 : ])\n",
        "\n",
        "   (A) [ ]\n",
        "\n",
        "   (B) [ 'b' ]\n",
        "\n",
        "   (C) [ 'a' ,  'b' ]\n",
        "\n",
        "   (D) [ 'b' ,  'c' ,  'd' ,  'e' ]\n",
        "\n"
      ],
      "metadata": {
        "id": "klqXCDmeX4kf"
      }
    },
    {
      "cell_type": "markdown",
      "source": [
        "ANSWER: (D) [ 'b' , 'c' , 'd' , 'e' ]"
      ],
      "metadata": {
        "id": "zorQS30RYBbH"
      }
    },
    {
      "cell_type": "code",
      "source": [
        "list = [ ' a ' , ' b ' , ' c ' , ' d ' , ' e ' ]\n",
        "\n",
        "print (list [ 1 : ])"
      ],
      "metadata": {
        "colab": {
          "base_uri": "https://localhost:8080/"
        },
        "id": "vZIy7GrkYNIy",
        "outputId": "f6b58b9b-6c7e-4bcc-c657-135358eb844e"
      },
      "execution_count": 20,
      "outputs": [
        {
          "output_type": "stream",
          "name": "stdout",
          "text": [
            "[' b ', ' c ', ' d ', ' e ']\n"
          ]
        }
      ]
    },
    {
      "cell_type": "markdown",
      "source": [
        "12. What is the output of this code in Python?\n",
        "\n",
        "        L1 = [ ]\n",
        "\n",
        "        L1.append ( [1, [2, 3], 4] )\n",
        "\n",
        "        L1.extend ( [7, 8, 9] )\n",
        "\n",
        "        print(L1[0][1][1] + L1[2] )\n",
        "\n",
        "   (A) 3  (B) 8  (C) 11  (D) 38  (E) None of these\n"
      ],
      "metadata": {
        "id": "F8Itzpx9YKum"
      }
    },
    {
      "cell_type": "markdown",
      "source": [
        "ANSWER: (C)"
      ],
      "metadata": {
        "id": "MwInnhzEYXWo"
      }
    },
    {
      "cell_type": "code",
      "source": [
        "L1 = [ ]\n",
        "\n",
        "L1.append ( [1, [2, 3], 4] )\n",
        "\n",
        "L1.extend ( [7, 8, 9] )\n",
        "\n",
        "print(L1[0][1][1] + L1[2] )"
      ],
      "metadata": {
        "colab": {
          "base_uri": "https://localhost:8080/"
        },
        "id": "L7d_uDC7YaB3",
        "outputId": "372f2678-5ee3-4667-e339-94a14c56cbd8"
      },
      "execution_count": 29,
      "outputs": [
        {
          "output_type": "stream",
          "name": "stdout",
          "text": [
            "11\n"
          ]
        }
      ]
    },
    {
      "cell_type": "markdown",
      "source": [
        "13. Check if \"free\" is present in the following text:\n",
        "\n",
        "\n",
        "txt = \"The best things in life are free!\"\n",
        "\n",
        "print(\"free\" ______ txt)\n",
        "\n",
        "\n",
        "Which is the correct answer?\n",
        "\n",
        "(A) on (B) with (C) at  (D) in\n"
      ],
      "metadata": {
        "id": "OKJ2mafli_oo"
      }
    },
    {
      "cell_type": "markdown",
      "source": [
        "ANSWER: (D) in"
      ],
      "metadata": {
        "id": "5tfFdeiOjUcp"
      }
    },
    {
      "cell_type": "code",
      "source": [
        "txt = \"The best things in life are free!\"\n",
        "print(\"free\" in txt)"
      ],
      "metadata": {
        "colab": {
          "base_uri": "https://localhost:8080/"
        },
        "id": "eNbQu23wjSMR",
        "outputId": "9d950029-32dd-4742-a624-7def8310d9cb"
      },
      "execution_count": 30,
      "outputs": [
        {
          "output_type": "stream",
          "name": "stdout",
          "text": [
            "True\n"
          ]
        }
      ]
    },
    {
      "cell_type": "markdown",
      "source": [
        "14. Which of the following conditions correctly describes the output of this code in  Python?\n",
        "\n",
        "         first = [1 , 2 , 3 , 4 , 5]\n",
        "\n",
        "         second = first\n",
        "\n",
        "         second.append (6)\n",
        "\n",
        "         print (first)\n",
        "\n",
        "         print (second)\n",
        "\n",
        "   (A) first=[1, 2, 3, 4, 5], second=[1, 2, 3, 4, 5, 6]\n",
        "\n",
        "   (B) first=[1, 2, 3, 4, 5, 6], second=[1, 2, 3, 4, 5]\n",
        "\n",
        "   (C) first=[1, 2, 3, 4, 5], second=[1, 2, 3, 4, 5]\n",
        "\n",
        "   (D) first=[1, 2, 3, 4, 5, 6], second=[1, 2, 3, 4, 5, 6]\n",
        "\n",
        "   (E) None of these\n"
      ],
      "metadata": {
        "id": "yM2zk-4ojZ0m"
      }
    },
    {
      "cell_type": "markdown",
      "source": [
        "ANSWER: (D) first=[1, 2, 3, 4, 5, 6], second=[1, 2, 3, 4, 5, 6]"
      ],
      "metadata": {
        "id": "FIsMRiqejg9Y"
      }
    },
    {
      "cell_type": "code",
      "source": [
        "first = [1 , 2 , 3 , 4 , 5]\n",
        "second = first\n",
        "second.append (6)\n",
        "print (first)\n",
        "print (second)"
      ],
      "metadata": {
        "colab": {
          "base_uri": "https://localhost:8080/"
        },
        "id": "mq71NdqujkNr",
        "outputId": "bd68665a-ffa1-4c94-d5e3-728c4f908b74"
      },
      "execution_count": 31,
      "outputs": [
        {
          "output_type": "stream",
          "name": "stdout",
          "text": [
            "[1, 2, 3, 4, 5, 6]\n",
            "[1, 2, 3, 4, 5, 6]\n"
          ]
        }
      ]
    },
    {
      "cell_type": "markdown",
      "source": [
        "18. Which one of the codes will output\n",
        "\n",
        "['apple', 'orange', 'banana', 'cherry']  ?\n",
        "\n",
        "\n",
        "mylist = [\"apple\", \"banana\", \"cherry\"]\n",
        "\n",
        "_____________________\n",
        "\n",
        "print(mylist)\n",
        "\n",
        "\n",
        "(A)mylist.append(\"orange\")\n",
        "\n",
        "(B)mylist.insert(0, \"orange\")\n",
        "\n",
        "(C)mylist.insert(1, \"orange\")   \n",
        "\n",
        "(D)mylist.insert(2, \"orange\")\n"
      ],
      "metadata": {
        "id": "DgxGHFqLjtVk"
      }
    },
    {
      "cell_type": "markdown",
      "source": [
        "ANSWER: (C) mylist.insert(1, \"orange\")"
      ],
      "metadata": {
        "id": "Cr1y0Bjvj3YT"
      }
    },
    {
      "cell_type": "code",
      "source": [
        "['apple', 'orange', 'banana', 'cherry']\n",
        "mylist = [\"apple\", \"banana\", \"cherry\"]\n",
        "mylist.insert(1, \"orange\")  \n",
        "print(mylist)"
      ],
      "metadata": {
        "colab": {
          "base_uri": "https://localhost:8080/"
        },
        "id": "PpEV5HgskSC9",
        "outputId": "b404c9b3-bf9a-4cbe-e760-691bb7f21631"
      },
      "execution_count": 32,
      "outputs": [
        {
          "output_type": "stream",
          "name": "stdout",
          "text": [
            "['apple', 'orange', 'banana', 'cherry']\n"
          ]
        }
      ]
    },
    {
      "cell_type": "markdown",
      "source": [
        "21. What is the output of this code in Python?\n",
        "\n",
        "\n",
        "i = 1\n",
        "\n",
        "while i < 6:\n",
        "\n",
        "  print(i)\n",
        "\n",
        "  if (i == 3):\n",
        "\n",
        "    break\n",
        "\n",
        "  i += 1\n",
        "\n",
        " (A)\n",
        "\n",
        "1\n",
        "\n",
        "2\n",
        "\n",
        "3\n",
        "\n",
        "(B)\n",
        "\n",
        "1\n",
        "\n",
        "2\n",
        "\n",
        "4\n",
        "\n",
        "5\n",
        "\n",
        "6\n",
        "\n",
        "(C)\n",
        "\n",
        "1\n",
        "\n",
        "2\n",
        "\n",
        "3\n",
        "\n",
        "4\n",
        "\n",
        "5\n",
        "\n",
        "6\n",
        "\n",
        "(D)\n",
        "\n",
        "4\n",
        "\n",
        "5\n",
        "\n",
        "6\n"
      ],
      "metadata": {
        "id": "luHisIEbkV-Y"
      }
    },
    {
      "cell_type": "markdown",
      "source": [
        "ANSWER: (A) 1\n",
        "            2\n",
        "            3"
      ],
      "metadata": {
        "id": "vaWq6Ln4kjvY"
      }
    },
    {
      "cell_type": "code",
      "source": [
        "i = 1\n",
        "while i < 6:\n",
        "  print(i)\n",
        "  if (i == 3):\n",
        "    break\n",
        "  i += 1"
      ],
      "metadata": {
        "colab": {
          "base_uri": "https://localhost:8080/"
        },
        "id": "d7Yv5Bo6llux",
        "outputId": "2598b26d-4324-4215-e822-adc7156779ea"
      },
      "execution_count": 35,
      "outputs": [
        {
          "output_type": "stream",
          "name": "stdout",
          "text": [
            "1\n",
            "2\n",
            "3\n"
          ]
        }
      ]
    },
    {
      "cell_type": "markdown",
      "source": [
        "22. What is the output of this code in Python?\n",
        "\n",
        "i = 0\n",
        "\n",
        "while i < 6:\n",
        "\n",
        "  i += 1\n",
        "\n",
        "  if i == 3:\n",
        "\n",
        "    continue\n",
        "\n",
        "  print(i)\n",
        "\n",
        "(A)\n",
        "\n",
        "1\n",
        "\n",
        "2\n",
        "\n",
        "3\n",
        "\n",
        "(B)\n",
        "\n",
        "1\n",
        "\n",
        "2\n",
        "\n",
        "4\n",
        "\n",
        "5\n",
        "\n",
        "6\n",
        "\n",
        "(C)\n",
        "\n",
        "1\n",
        "\n",
        "2\n",
        "\n",
        "3\n",
        "\n",
        "4\n",
        "\n",
        "5\n",
        "\n",
        "6\n",
        "\n",
        "(D)\n",
        "\n",
        "4\n",
        "\n",
        "5\n",
        "\n",
        "6 "
      ],
      "metadata": {
        "id": "T4VEot2-lvII"
      }
    },
    {
      "cell_type": "markdown",
      "source": [
        "ANSWER: (B) 1 2 4 5 6"
      ],
      "metadata": {
        "id": "fSDI-Npjl7ub"
      }
    },
    {
      "cell_type": "code",
      "source": [
        "i = 0\n",
        "while i < 6:\n",
        "  i += 1\n",
        "  if i == 3:\n",
        "    continue\n",
        "  print(i)\n"
      ],
      "metadata": {
        "colab": {
          "base_uri": "https://localhost:8080/"
        },
        "id": "NObm8HngmEgO",
        "outputId": "706b91e0-9bcf-48f0-c756-abfa96691d23"
      },
      "execution_count": 36,
      "outputs": [
        {
          "output_type": "stream",
          "name": "stdout",
          "text": [
            "1\n",
            "2\n",
            "4\n",
            "5\n",
            "6\n"
          ]
        }
      ]
    },
    {
      "cell_type": "markdown",
      "source": [
        "24. What is the output of this code in python?\n",
        "\n",
        "        r = lambda q: q * 2\n",
        "\n",
        "        s = lambda q: q * 3\n",
        "\n",
        "        x = 2\n",
        "\n",
        "        x = r (x)\n",
        "\n",
        "        x = s (x)\n",
        "\n",
        "        x = r (x)\n",
        "\n",
        "        print (x)\n",
        "\n",
        "   (A) 2  (B) 4  (C) 6  (D) 12  (E) 24\n"
      ],
      "metadata": {
        "id": "pzkp07RqmtQK"
      }
    },
    {
      "cell_type": "markdown",
      "source": [
        "ANSWER: (E) 24"
      ],
      "metadata": {
        "id": "fvO1-8Bim5Yn"
      }
    },
    {
      "cell_type": "code",
      "source": [
        "r = lambda q: q * 2\n",
        "s = lambda q: q * 3\n",
        "x = 2\n",
        "x = r (x)\n",
        "x = s (x)\n",
        "x = r (x)\n",
        "print (x)\n"
      ],
      "metadata": {
        "colab": {
          "base_uri": "https://localhost:8080/"
        },
        "id": "JyuH4gmcnBIi",
        "outputId": "5d50f177-3708-483c-d48e-5f06e42aeb13"
      },
      "execution_count": 37,
      "outputs": [
        {
          "output_type": "stream",
          "name": "stdout",
          "text": [
            "24\n"
          ]
        }
      ]
    },
    {
      "cell_type": "markdown",
      "source": [
        "25. A recursive function is defined as below:\n",
        "\n",
        "def tri_recursion(k):\n",
        "\n",
        "  if(k > 0):\n",
        "\n",
        "    result = k + tri_recursion(k - 1)\n",
        "\n",
        "    print(result)\n",
        "\n",
        "  else:\n",
        "\n",
        "    result = 0\n",
        "\n",
        "  return result\n",
        "\n",
        "\n",
        "\n",
        "What Is The Last Line Of The Output When tri_recursion(6) is executed? \n",
        "\n",
        "   (A) 6  (B) 10  (C) 15  (D) 21  (E) 28\n",
        "\n"
      ],
      "metadata": {
        "id": "vlZCMAYPnUaN"
      }
    },
    {
      "cell_type": "markdown",
      "source": [
        "ANSWER: (D) 21"
      ],
      "metadata": {
        "id": "gh0BqYCInYoR"
      }
    },
    {
      "cell_type": "code",
      "source": [
        "def tri_recursion(k):\n",
        "  if(k > 0):\n",
        "    result = k + tri_recursion(k - 1)\n",
        "    print(result)\n",
        "  else:\n",
        "    result = 0\n",
        "  return result\n",
        "\n",
        "print(\"\\n\\nRecursion  Results\")\n",
        "tri_recursion(6)"
      ],
      "metadata": {
        "colab": {
          "base_uri": "https://localhost:8080/"
        },
        "id": "jS7M8hz3nmz-",
        "outputId": "9e9e9a43-6e99-45e8-8130-150b0c83fd9f"
      },
      "execution_count": 38,
      "outputs": [
        {
          "output_type": "stream",
          "name": "stdout",
          "text": [
            "\n",
            "\n",
            "Recursion  Results\n",
            "1\n",
            "3\n",
            "6\n",
            "10\n",
            "15\n",
            "21\n"
          ]
        },
        {
          "output_type": "execute_result",
          "data": {
            "text/plain": [
              "21"
            ]
          },
          "metadata": {},
          "execution_count": 38
        }
      ]
    }
  ]
}