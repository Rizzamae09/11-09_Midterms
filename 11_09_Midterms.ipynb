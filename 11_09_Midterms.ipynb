{
  "nbformat": 4,
  "nbformat_minor": 0,
  "metadata": {
    "colab": {
      "provenance": [],
      "collapsed_sections": [],
      "authorship_tag": "ABX9TyPeomP7SbWOE17V94F3v56p",
      "include_colab_link": true
    },
    "kernelspec": {
      "name": "python3",
      "display_name": "Python 3"
    },
    "language_info": {
      "name": "python"
    }
  },
  "cells": [
    {
      "cell_type": "markdown",
      "metadata": {
        "id": "view-in-github",
        "colab_type": "text"
      },
      "source": [
        "<a href=\"https://colab.research.google.com/github/Rizzamae09/11-09_Midterms/blob/main/11_09_Midterms.ipynb\" target=\"_parent\"><img src=\"https://colab.research.google.com/assets/colab-badge.svg\" alt=\"Open In Colab\"/></a>"
      ]
    },
    {
      "cell_type": "markdown",
      "source": [
        "TEST 1\n",
        "\n",
        "RECURSIVE FUNCTION\n",
        "\n",
        "f(n)"
      ],
      "metadata": {
        "id": "ctmn56rqw5vJ"
      }
    },
    {
      "cell_type": "code",
      "source": [
        "def recursion(f):\n",
        "  if(f > 0):\n",
        "    result = f + recursion(f - 1)\n",
        "    print(result)\n",
        "  else:\n",
        "    result = 0\n",
        "  return result\n",
        "\n",
        "print(\"\\n\")\n",
        "recursion(6)"
      ],
      "metadata": {
        "colab": {
          "base_uri": "https://localhost:8080/"
        },
        "id": "txXa6TOEydQ0",
        "outputId": "cbdba47f-3650-44fb-a8d4-0dbba9d9aa08"
      },
      "execution_count": 4,
      "outputs": [
        {
          "output_type": "stream",
          "name": "stdout",
          "text": [
            "\n",
            "\n",
            "1\n",
            "3\n",
            "6\n",
            "10\n",
            "15\n",
            "21\n"
          ]
        },
        {
          "output_type": "execute_result",
          "data": {
            "text/plain": [
              "21"
            ]
          },
          "metadata": {},
          "execution_count": 4
        }
      ]
    },
    {
      "cell_type": "markdown",
      "source": [
        "\n",
        "\n",
        "ITERATIVE FUNCTION\n",
        "\n",
        "f(n)"
      ],
      "metadata": {
        "id": "dkI-XV9t3uXo"
      }
    },
    {
      "cell_type": "code",
      "source": [
        "singers = [\"Taylor SWift\", \"Sabrina Carpenter\", \"Justin Bieber\"]\n",
        "i = 0\n",
        "while (i < len(singers)):\n",
        "    print(singers[i])\n",
        "    i += 1"
      ],
      "metadata": {
        "colab": {
          "base_uri": "https://localhost:8080/"
        },
        "id": "mRQu9NY46bNd",
        "outputId": "d469114d-42d4-47e8-e6a7-9e065517f103"
      },
      "execution_count": 29,
      "outputs": [
        {
          "output_type": "stream",
          "name": "stdout",
          "text": [
            "Taylor SWift\n",
            "Sabrina Carpenter\n",
            "Justin Bieber\n"
          ]
        }
      ]
    },
    {
      "cell_type": "markdown",
      "source": [
        "TEST 2\n",
        "\n",
        "RECURSIVE FUNCTION\n",
        "\n",
        "f(n)"
      ],
      "metadata": {
        "id": "04dGNfqv7rFM"
      }
    },
    {
      "cell_type": "code",
      "source": [
        "def f(n):\n",
        "    if n == 1: \n",
        "        return 1\n",
        "\n",
        "    else:\n",
        "        return(n * f(n-1))\n",
        "\n",
        "print(f(10))"
      ],
      "metadata": {
        "colab": {
          "base_uri": "https://localhost:8080/"
        },
        "id": "xLWgsoLb7wUc",
        "outputId": "9d4c0b19-d440-4024-9aab-12a99b469d3a"
      },
      "execution_count": 37,
      "outputs": [
        {
          "output_type": "stream",
          "name": "stdout",
          "text": [
            "3628800\n"
          ]
        }
      ]
    },
    {
      "cell_type": "markdown",
      "source": [
        "ITERATIVE FUNCTION"
      ],
      "metadata": {
        "id": "KyBMx6XtDzRR"
      }
    },
    {
      "cell_type": "code",
      "source": [
        "n = 8\n",
        "for i in range(n):\n",
        "   print(10**(3*i))\n",
        "   for i in range(n, -1, -1):\n",
        "     print(10**(3*i)) "
      ],
      "metadata": {
        "colab": {
          "base_uri": "https://localhost:8080/"
        },
        "id": "3aEnMaxGD16u",
        "outputId": "654ebbcf-afaa-4673-81dc-5ab6225a0ca0"
      },
      "execution_count": 38,
      "outputs": [
        {
          "output_type": "stream",
          "name": "stdout",
          "text": [
            "1\n",
            "1000000000000000000000000\n",
            "1000000000000000000000\n",
            "1000000000000000000\n",
            "1000000000000000\n",
            "1000000000000\n",
            "1000000000\n",
            "1000000\n",
            "1000\n",
            "1\n",
            "1000\n",
            "1000000000000000000000000\n",
            "1000000000000000000000\n",
            "1000000000000000000\n",
            "1000000000000000\n",
            "1000000000000\n",
            "1000000000\n",
            "1000000\n",
            "1000\n",
            "1\n",
            "1000000\n",
            "1000000000000000000000000\n",
            "1000000000000000000000\n",
            "1000000000000000000\n",
            "1000000000000000\n",
            "1000000000000\n",
            "1000000000\n",
            "1000000\n",
            "1000\n",
            "1\n",
            "1000000000\n",
            "1000000000000000000000000\n",
            "1000000000000000000000\n",
            "1000000000000000000\n",
            "1000000000000000\n",
            "1000000000000\n",
            "1000000000\n",
            "1000000\n",
            "1000\n",
            "1\n",
            "1000000000000\n",
            "1000000000000000000000000\n",
            "1000000000000000000000\n",
            "1000000000000000000\n",
            "1000000000000000\n",
            "1000000000000\n",
            "1000000000\n",
            "1000000\n",
            "1000\n",
            "1\n",
            "1000000000000000\n",
            "1000000000000000000000000\n",
            "1000000000000000000000\n",
            "1000000000000000000\n",
            "1000000000000000\n",
            "1000000000000\n",
            "1000000000\n",
            "1000000\n",
            "1000\n",
            "1\n",
            "1000000000000000000\n",
            "1000000000000000000000000\n",
            "1000000000000000000000\n",
            "1000000000000000000\n",
            "1000000000000000\n",
            "1000000000000\n",
            "1000000000\n",
            "1000000\n",
            "1000\n",
            "1\n",
            "1000000000000000000000\n",
            "1000000000000000000000000\n",
            "1000000000000000000000\n",
            "1000000000000000000\n",
            "1000000000000000\n",
            "1000000000000\n",
            "1000000000\n",
            "1000000\n",
            "1000\n",
            "1\n"
          ]
        }
      ]
    },
    {
      "cell_type": "markdown",
      "source": [
        "TEST 3\n",
        "\n",
        "GCD\n",
        "\n",
        "RECURSIVE FUNCTION"
      ],
      "metadata": {
        "id": "hKF1fdCN_Vhh"
      }
    },
    {
      "cell_type": "code",
      "source": [
        "def f(a, b):\n",
        "    if(b == 0):\n",
        "        return abs(a)\n",
        "    else:\n",
        "        return f(b, a % b)\n",
        " \n",
        "a = 60\n",
        "b = 48\n",
        "print(\"The gcd of 60 and 48 is : \", end=\"\")\n",
        "print(f(60, 48))"
      ],
      "metadata": {
        "colab": {
          "base_uri": "https://localhost:8080/"
        },
        "id": "RXGeMbA-_aE0",
        "outputId": "00971a9a-449b-4e28-abad-c5319ce87ba8"
      },
      "execution_count": 32,
      "outputs": [
        {
          "output_type": "stream",
          "name": "stdout",
          "text": [
            "The gcd of 60 and 48 is : 12\n"
          ]
        }
      ]
    },
    {
      "cell_type": "markdown",
      "source": [
        "ITERATIVE FUNCTION"
      ],
      "metadata": {
        "id": "FmgCfAz7_lvX"
      }
    },
    {
      "cell_type": "code",
      "source": [
        "import math\n",
        "\n",
        "print (math.gcd(3, 6))\n",
        "print (math.gcd(6, 12))\n",
        "print (math.gcd(12, 36))\n",
        "print (math.gcd(-12, -36))\n",
        "print (math.gcd(5, 12))\n",
        "print (math.gcd(10, 0))\n",
        "print (math.gcd(0, 34))\n",
        "print (math.gcd(0, 0))"
      ],
      "metadata": {
        "colab": {
          "base_uri": "https://localhost:8080/"
        },
        "id": "bZ79R_sU_pp5",
        "outputId": "c37da5ad-b100-4c33-d6f9-b616ba57c1c8"
      },
      "execution_count": 34,
      "outputs": [
        {
          "output_type": "stream",
          "name": "stdout",
          "text": [
            "3\n",
            "6\n",
            "12\n",
            "12\n",
            "1\n",
            "10\n",
            "34\n",
            "0\n"
          ]
        }
      ]
    }
  ]
}